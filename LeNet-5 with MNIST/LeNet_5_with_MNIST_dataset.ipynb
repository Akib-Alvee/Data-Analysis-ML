{
  "nbformat": 4,
  "nbformat_minor": 0,
  "metadata": {
    "colab": {
      "name": "LeNet-5 with MNIST dataset.ipynb",
      "provenance": []
    },
    "kernelspec": {
      "name": "python3",
      "display_name": "Python 3"
    },
    "language_info": {
      "name": "python"
    },
    "accelerator": "GPU"
  },
  "cells": [
    {
      "cell_type": "code",
      "execution_count": 1,
      "metadata": {
        "id": "JFuU7nr-0YER"
      },
      "outputs": [],
      "source": [
        "import tensorflow as tf\n",
        "from tensorflow import keras\n",
        "import numpy as np\n",
        "from timeit import default_timer as timer\n",
        "import os"
      ]
    },
    {
      "cell_type": "code",
      "source": [
        "(train_x, train_y), (test_x, test_y) = keras.datasets.mnist.load_data()"
      ],
      "metadata": {
        "id": "Ryr3fbAh0a4P",
        "colab": {
          "base_uri": "https://localhost:8080/"
        },
        "outputId": "e7d49bd3-0a36-48cc-9094-d970d6b81159"
      },
      "execution_count": 2,
      "outputs": [
        {
          "output_type": "stream",
          "name": "stdout",
          "text": [
            "Downloading data from https://storage.googleapis.com/tensorflow/tf-keras-datasets/mnist.npz\n",
            "11493376/11490434 [==============================] - 0s 0us/step\n",
            "11501568/11490434 [==============================] - 0s 0us/step\n"
          ]
        }
      ]
    },
    {
      "cell_type": "code",
      "source": [
        "print(train_x.shape)\n",
        "print(train_y.shape)"
      ],
      "metadata": {
        "colab": {
          "base_uri": "https://localhost:8080/"
        },
        "id": "od3dm8gD7c00",
        "outputId": "6a9f2751-b9cd-48a4-9f9a-3e879038d0b8"
      },
      "execution_count": 3,
      "outputs": [
        {
          "output_type": "stream",
          "name": "stdout",
          "text": [
            "(60000, 28, 28)\n",
            "(60000,)\n"
          ]
        }
      ]
    },
    {
      "cell_type": "code",
      "source": [
        "train_x = train_x / 255.0\n",
        "test_x = test_x / 255.0\n",
        "\n",
        "train_x = tf.expand_dims(train_x, 3)\n",
        "test_x = tf.expand_dims(test_x, 3)\n",
        "\n",
        "val_x = train_x[:5000]\n",
        "val_y = train_y[:5000]"
      ],
      "metadata": {
        "id": "mfqlCszb2ZGK"
      },
      "execution_count": 4,
      "outputs": []
    },
    {
      "cell_type": "code",
      "source": [
        "print(train_x.shape)\n",
        "print(train_y.shape)"
      ],
      "metadata": {
        "colab": {
          "base_uri": "https://localhost:8080/"
        },
        "id": "bDweJiF25cKI",
        "outputId": "cfd3012e-7f3d-4c2e-b8a0-2a85abb6aea4"
      },
      "execution_count": 5,
      "outputs": [
        {
          "output_type": "stream",
          "name": "stdout",
          "text": [
            "(60000, 28, 28, 1)\n",
            "(60000,)\n"
          ]
        }
      ]
    },
    {
      "cell_type": "code",
      "source": [
        "lenet_5_model = keras.models.Sequential([\n",
        "    keras.layers.Conv2D(6, kernel_size=5, strides=1,  activation='relu', input_shape=train_x[0].shape, padding='same'), #C1\n",
        "    keras.layers.MaxPooling2D(pool_size=(2,2), strides = 2), #S2\n",
        "    keras.layers.Conv2D(16, kernel_size=5, strides=1, activation='relu', padding='same'), #C3\n",
        "    keras.layers.MaxPooling2D(pool_size=(2,2), strides = 2), #S4\n",
        "    keras.layers.Flatten(), #Flatten\n",
        "    keras.layers.Dense(120, activation='relu'), #C5\n",
        "    keras.layers.Dense(84, activation='relu'), #F6\n",
        "    keras.layers.Dense(10, activation='softmax') #Output layer\n",
        "])"
      ],
      "metadata": {
        "id": "zWnii8gD0l6y"
      },
      "execution_count": 6,
      "outputs": []
    },
    {
      "cell_type": "code",
      "source": [
        "lenet_5_model.compile(optimizer='adam', loss=keras.losses.sparse_categorical_crossentropy, metrics=['accuracy'])"
      ],
      "metadata": {
        "id": "KpPgDHAS1Cma"
      },
      "execution_count": 7,
      "outputs": []
    },
    {
      "cell_type": "code",
      "source": [
        "start_time = timer()\n",
        "lenet_5_model.fit(train_x, train_y, epochs=10, validation_data=(val_x, val_y))\n",
        "end_time = timer()"
      ],
      "metadata": {
        "colab": {
          "base_uri": "https://localhost:8080/"
        },
        "id": "q5N4ivVJ1KPq",
        "outputId": "75ba6834-baec-42ce-b157-6c9e4bac8565"
      },
      "execution_count": 8,
      "outputs": [
        {
          "output_type": "stream",
          "name": "stdout",
          "text": [
            "Epoch 1/10\n",
            "1875/1875 [==============================] - 20s 4ms/step - loss: 0.1818 - accuracy: 0.9452 - val_loss: 0.0835 - val_accuracy: 0.9746\n",
            "Epoch 2/10\n",
            "1875/1875 [==============================] - 6s 3ms/step - loss: 0.0621 - accuracy: 0.9807 - val_loss: 0.0415 - val_accuracy: 0.9868\n",
            "Epoch 3/10\n",
            "1875/1875 [==============================] - 6s 3ms/step - loss: 0.0448 - accuracy: 0.9859 - val_loss: 0.0323 - val_accuracy: 0.9886\n",
            "Epoch 4/10\n",
            "1875/1875 [==============================] - 6s 3ms/step - loss: 0.0345 - accuracy: 0.9885 - val_loss: 0.0302 - val_accuracy: 0.9890\n",
            "Epoch 5/10\n",
            "1875/1875 [==============================] - 6s 3ms/step - loss: 0.0262 - accuracy: 0.9911 - val_loss: 0.0138 - val_accuracy: 0.9952\n",
            "Epoch 6/10\n",
            "1875/1875 [==============================] - 6s 3ms/step - loss: 0.0224 - accuracy: 0.9927 - val_loss: 0.0084 - val_accuracy: 0.9974\n",
            "Epoch 7/10\n",
            "1875/1875 [==============================] - 7s 4ms/step - loss: 0.0180 - accuracy: 0.9942 - val_loss: 0.0127 - val_accuracy: 0.9948\n",
            "Epoch 8/10\n",
            "1875/1875 [==============================] - 7s 3ms/step - loss: 0.0158 - accuracy: 0.9950 - val_loss: 0.0090 - val_accuracy: 0.9972\n",
            "Epoch 9/10\n",
            "1875/1875 [==============================] - 6s 3ms/step - loss: 0.0131 - accuracy: 0.9957 - val_loss: 0.0062 - val_accuracy: 0.9970\n",
            "Epoch 10/10\n",
            "1875/1875 [==============================] - 6s 3ms/step - loss: 0.0118 - accuracy: 0.9962 - val_loss: 0.0086 - val_accuracy: 0.9970\n"
          ]
        }
      ]
    },
    {
      "cell_type": "code",
      "source": [
        "print(end_time - start_time)"
      ],
      "metadata": {
        "colab": {
          "base_uri": "https://localhost:8080/"
        },
        "id": "H_8MOcVtDzU1",
        "outputId": "3b0b3182-71fc-4d81-cd14-3d30fa1ee441"
      },
      "execution_count": 9,
      "outputs": [
        {
          "output_type": "stream",
          "name": "stdout",
          "text": [
            "77.095727361\n"
          ]
        }
      ]
    },
    {
      "cell_type": "code",
      "source": [
        "lenet_5_model.evaluate(test_x, test_y)"
      ],
      "metadata": {
        "colab": {
          "base_uri": "https://localhost:8080/"
        },
        "id": "3S0qFfYL1OlD",
        "outputId": "01bbe843-aea6-4f98-d7c7-1e4d032c5341"
      },
      "execution_count": 10,
      "outputs": [
        {
          "output_type": "stream",
          "name": "stdout",
          "text": [
            "313/313 [==============================] - 1s 3ms/step - loss: 0.0464 - accuracy: 0.9881\n"
          ]
        },
        {
          "output_type": "execute_result",
          "data": {
            "text/plain": [
              "[0.04637783020734787, 0.988099992275238]"
            ]
          },
          "metadata": {},
          "execution_count": 10
        }
      ]
    },
    {
      "cell_type": "code",
      "source": [
        ""
      ],
      "metadata": {
        "id": "d2iGxgDsGPTd"
      },
      "execution_count": 11,
      "outputs": []
    }
  ]
}